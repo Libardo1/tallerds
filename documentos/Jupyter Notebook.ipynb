{
 "cells": [
  {
   "cell_type": "markdown",
   "metadata": {},
   "source": [
    "# Jupyter notebook\n",
    "\n",
    "Jupyter Notebook es un entorno de computación interactivo que permite ejecutar código y además escribir documentos con:\n",
    "* Código ejecutado\n",
    "* Visualizaciones interactivas\n",
    "* Gráficos\n",
    "* Texto\n",
    "* Ecuaciones\n",
    "* Imágenes y video\n",
    "\n",
    "Los documentos se pueden exportar a PDF, HTML y otros. \n",
    "\n",
    "## Componentes\n",
    "\n",
    "Jupyter Notebook combina tres componentes:\n",
    "* **Aplicación web notebook**: es la aplicación que que usamos para escribir y ejecutar código interactivamente. También lo usamos para escribir documentos.\n",
    "* **Kernel**: es un proceso iniciado por la aplicación web y que ejecuta el código que el usuario escribe en el notebook. En este curso usaremos el kernel de **Python 3** (aunque también hay disponibles para [R](https://github.com/IRkernel/IRkernel) y [otros lenguajes de programación](https://github.com/jupyter/jupyter/wiki/Jupyter-kernels).\n",
    "* **Documentos notebook**: son los documentos autocontenidos que contienen una representación de todo lo que está visible en el notebook, incluyendo las entradas y salidas de código que se hayan ejecutad. Además incluye todo el texto, imágenes y videos generados por el usuario. Este archivo es un documento notebook.\n",
    "\n",
    "\n",
    "## Documentos notebook\n",
    "\n",
    "Cuando se ejecuta la aplicación web notebook, los notebooks son simplemente archivos en el disco duro con extensión **.pynb**. Esto permite organizarlos en carpetas y compartirlo con otras personas.\n",
    "\n",
    "Los notebooks son una secuencia de celdas. Existen cuatro tipos de celdas:\n",
    "* Code cells: Input and output of live code that is run in the kernel\n",
    "* Markdown cells: Narrative text with embedded LaTeX equations\n",
    "* Heading cells: 6 levels of hierarchical organization and formatting\n",
    "* Raw cells: Unformatted text that is included, without modification, when notebooks are converted to different formats using nbconvert\n",
    "\n",
    "Esta celda es Markdown, solo contiene texto. También se puede incluir ecuaciones $e = mc^2$.\n",
    "\n",
    "Para renderizar el contenido de una celda Markdown o para ejecutar el código en una celda se debe presionar shift+enter.\n",
    "\n",
    "Revisa cómo escribir documentos usando Markdown en https://help.github.com/articles/basic-writing-and-formatting-syntax/"
   ]
  },
  {
   "cell_type": "markdown",
   "metadata": {},
   "source": [
    "## Ejecutando la aplicación web\n",
    "\n",
    "Si instalaste Jupyter con Anaconda, simplemente debes buscar el acceso directo **Jupyter Notebook** en el menú de Windows. Si estás en Linux/Macos, ejecuta el comando ``jupyter notebook``.\n",
    "\n",
    "Deberías ver una ventana como esta (contiene la lista de archivos y carpetas que están en el directorio de tu usuario, usualmente en ``C:\\Users\\usuario`` o ``/Users/usuario`` o ``/home/usuario``):\n",
    "\n",
    "![jupyter notebook](http://nbviewer.jupyter.org/github/jupyter/notebook/blob/master/docs/source/examples/Notebook/images/dashboard_files_tab.png)\n",
    "\n",
    "\n",
    "\n",
    "## Creando un notebook\n",
    "\n",
    "Para crear un notebook presiona el botón **New** en la esquina superior derecha. Luego clickea sobre el Kernel que usarás. Para el curso usaremos Python 3.\n",
    "\n",
    "![menu new](http://nbviewer.jupyter.org/github/jupyter/notebook/blob/master/docs/source/examples/Notebook/images/dashboard_files_tab_new.png)\n",
    "\n",
    "\n",
    "El contendo de esta celda está basado en [What is the Jupyter Notebook](http://nbviewer.jupyter.org/github/jupyter/notebook/blob/master/docs/source/examples/Notebook/What%20is%20the%20Jupyter%20Notebook.ipynb) y [Notebook Basics]( http://nbviewer.jupyter.org/github/jupyter/notebook/blob/master/docs/source/examples/Notebook/Notebook%20Basics.ipynb).\n",
    "  \n",
    "  \n",
    "Estas clases están en notebooks!"
   ]
  },
  {
   "cell_type": "code",
   "execution_count": null,
   "metadata": {
    "collapsed": true
   },
   "outputs": [],
   "source": []
  }
 ],
 "metadata": {
  "kernelspec": {
   "display_name": "Python 3",
   "language": "python",
   "name": "python3"
  },
  "language_info": {
   "codemirror_mode": {
    "name": "ipython",
    "version": 3
   },
   "file_extension": ".py",
   "mimetype": "text/x-python",
   "name": "python",
   "nbconvert_exporter": "python",
   "pygments_lexer": "ipython3",
   "version": "3.6.2"
  }
 },
 "nbformat": 4,
 "nbformat_minor": 2
}
