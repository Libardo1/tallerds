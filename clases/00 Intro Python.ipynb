{
 "cells": [
  {
   "cell_type": "markdown",
   "metadata": {},
   "source": [
    "**Metadata**: Estos notebooks están (más que) inspirados en el excelente trabajo de [Jake van der Plass](https://github.com/jakevdp/) y su [Whirlwind Tour Of Python](https://github.com/jakevdp/WhirlwindTourOfPython). Ver A Whirlwind Tour of Python by Jake VanderPlas (O’Reilly). Copyright 2016 O’Reilly Media, Inc., 978-1-491-96465-1.\". Estos notebooks están protegidos con la misma licencia de los originales, [Creative Commons 0](https://creativecommons.org/publicdomain/zero/1.0/). Todas las notas están disponibles en [PrograUDD](https://github.com/leoferres/prograUDD).\n",
    "\n",
    "**Nota**: Estos notebooks están basados en la cátedra de programación dirigida por el Excmo. Sr. Dr. [Leo Ferres](https://github.com/leoferres). \n",
    "Bajo licencia [Creative Commons 0](). Todas las notas están disponibles en [TallerDataScience](https://github.com/diegocaro/tallerds)."
   ]
  },
  {
   "cell_type": "markdown",
   "metadata": {},
   "source": [
    "# Objetivos de la clase\n",
    "1. Reconocer el significado del término **ciencia de datos** y el rol de une **data scientist**\n",
    "1. Conocer el proceso investigativo.\n",
    "1. Diagnóstico Pensamiento Computacional\n",
    "1. Elaborar scripts Python con if/else y loops con numeros y strings."
   ]
  },
  {
   "cell_type": "markdown",
   "metadata": {},
   "source": [
    "# Admin\n",
    "\n",
    "## Staff *en orden no-alfabético*\n",
    "  - Dr. Eduardo Graells (`@carnby`, `egraells @ dominio udd`)\n",
    "  - Dr. Diego Caro (`@diegocaro`, `dcaro @ dominio udd`)\n",
    "\n",
    "  \n",
    "## Horarios de clase y salas\n",
    "\n",
    "  - Sala Y035, Jueves J5 y J6\n",
    "\n",
    "## Herramientas de comunicación (hablemos!)\n",
    "\n",
    "   - Piazza https://piazza.com/udd.cl/spring2017/iei551\n",
    "       - Se pueden hacer preguntas anónimas y respuestas anónimas.\n",
    "   - Github (no es necesario saber mucho, pero correcciones son bienvenidas; ie. `pull requests`)\n",
    "      - [https://github.com/diegocaro/tallerds](https://github.com/diegocaro/tallerds)\n",
    "\n",
    "### Programación Python\n",
    " - Guttag, john. Introduction to computation and programming using Python. Revised and expanded edition. MIT press, 2013. Isbn: (Ebook o versión impresa), ver videos en https://www.youtube.com/watch?v=4UDyp67d6_w\n",
    " - Downey, A. How to think like a computer scientist, https://goo.gl/4nVEWr\n",
    " - https://www.ossblog.org/study-python-with-open-source-books/ (NEW!!!)"
   ]
  },
  {
   "cell_type": "markdown",
   "metadata": {},
   "source": [
    "## ¿Por qué Python?\n",
    "\n",
    "Hasta el año pasado la facultad enseñaba C++ como lenguaje de programación. Si bien estos lenguajes son algunos de los más usados (C puro en particular), en este curso estamos más interesados en resolución de problemas en Data Science más que en las particularidades de un lenguaje. Si vamos a imprimir algo, preferimos que sea simple"
   ]
  },
  {
   "cell_type": "code",
   "execution_count": 15,
   "metadata": {
    "collapsed": false
   },
   "outputs": [
    {
     "name": "stdout",
     "output_type": "stream",
     "text": [
      "hola\n"
     ]
    }
   ],
   "source": [
    "print(\"hola\")"
   ]
  },
  {
   "cell_type": "markdown",
   "metadata": {},
   "source": [
    "y no complejo:"
   ]
  },
  {
   "cell_type": "markdown",
   "metadata": {},
   "source": [
    "```C\n",
    "#include<stdio.h>\n",
    "int main(int argn, char** argv) {\n",
    "   printf(\"hola\");\n",
    "   return 0;\n",
    "}\n",
    "```"
   ]
  },
  {
   "cell_type": "markdown",
   "metadata": {},
   "source": [
    "Python se inventó a finales de los 80s como un lenguaje de instrucción y scripting (explicar, \"glue language\"). Pero desde entonces se ha vuelto el lenguaje *de facto* de la ciencia, y hasta aplicaciones a gran escala (YouTube corre Python en buena parte de sus servicios). \n",
    "\n",
    "De hecho, Python es el lenguaje más popular según los lectores de la revista IEEE Spectrum (organización de Ingeniería). ![Python number one](http://spectrum.ieee.org/image/MjkyNzIzNQ.jpeg)\n",
    "Además está en el top 5 de los lenguajes de programación! Ver [el Tiobe Index](http://www.tiobe.com/tiobe-index/), MATLAB, como ejemplo, está #17."
   ]
  },
  {
   "cell_type": "markdown",
   "metadata": {},
   "source": [
    "## Nuestras herramientas\n",
    "\n",
    "### Anaconda y Python 3\n",
    "\n",
    "Para este curso vamos a usar Python 3 (asegurarse que es versión 3!), y la instalación de [Anaconda](https://www.continuum.io/downloads). Viene para Windows, Mac y Linux, asi que a no desesperarse con aprender algún otro OS.\n"
   ]
  },
  {
   "cell_type": "markdown",
   "metadata": {},
   "source": [
    "# Corriendo código en Python\n",
    "\n",
    "  - Python es un lenguaje super flexible.\n",
    "  - Es interpretado, no compilado (ejecutado línea por línea, haciendolo interactivo (no es posible con C, o Fortran)\n",
    "  \n",
    "Esta sección describe cuatro maneras de correr código Python: el *interprete*, *ipython*, *scripts* y *Jupyter notebooks*."
   ]
  },
  {
   "cell_type": "markdown",
   "metadata": {},
   "source": [
    "## El interprete de Python\n",
    "\n",
    "   - Forma más básica de ejecutar Python (línea a línea)\n",
    "   - Viene con el lenguaje cuando se instala\n",
    "   - executar `python` en la terminal de OSX, en la consola de Linux o en el \"command prompt\" o `cmd.exe` de (bleargh) Windows.\n",
    "   \n",
    "De paso vean el siguiente ejemplo:\n",
    "```\n",
    "Python 3.5.2 |Anaconda custom (64-bit)| (default, Jul  2 2016, 17:53:06) \n",
    "[GCC 4.4.7 20120313 (Red Hat 4.4.7-1)] on linux\n",
    "Type \"help\", \"copyright\", \"credits\" or \"license\" for more information.\n",
    ">>> \n",
    "```"
   ]
  },
  {
   "cell_type": "markdown",
   "metadata": {},
   "source": [
    "Mientras el interprete esté corriendo, se puede ejecutar código. Por ejemplo, usarlo como calculadora:\n",
    "\n",
    "```\n",
    ">>> 1 + 1\n",
    "2\n",
    ">>> x = 5\n",
    ">>> x * 3\n",
    "15\n",
    "```\n",
    "\n",
    "**Noten** el \"markup\" que hago: esto se llama \"markdown\" y nos es últil para escribir documentación."
   ]
  },
  {
   "cell_type": "markdown",
   "metadata": {},
   "source": [
    "## El Jupyter notebook\n",
    "\n",
    "  - Un formato especial de documentación que permite ejecutar codigo, ver gráficos, etc.\n",
    "  - Los notebooks son un entorno de desarrollo, pero también una forma de comunicar y compartir trabajo a través de \"narrativas\" computacionales y de datos que mezclan código, figuras, datos, y texto.\n",
    "  \n",
    "Estas clases están en notebooks!"
   ]
  },
  {
   "cell_type": "markdown",
   "metadata": {},
   "source": [
    "# La sintaxis de Python\n",
    "\n",
    "La sintaxis de Python es considerada tan limpia que a veces a Python se le dice \"executable pseudo-code\", e hizo que su adaptación haya sido muy extensa.\n",
    "\n",
    "Considere el siguiente código:"
   ]
  },
  {
   "cell_type": "code",
   "execution_count": 1,
   "metadata": {
    "collapsed": false
   },
   "outputs": [
    {
     "name": "stdout",
     "output_type": "stream",
     "text": [
      "lower: [0, 1, 2, 3, 4]\n",
      "upper: [5, 6, 7, 8, 9]\n"
     ]
    }
   ],
   "source": [
    "# set the midpoint\n",
    "midpoint = 5\n",
    "\n",
    "# make two empty lists\n",
    "lower = []; upper = []\n",
    "\n",
    "# split the numbers into lower and upper\n",
    "for i in range(10):\n",
    "    if (i < midpoint):\n",
    "        lower.append(i)\n",
    "    else:\n",
    "        upper.append(i)\n",
    "        \n",
    "print(\"lower:\", lower)\n",
    "print(\"upper:\", upper)"
   ]
  },
  {
   "cell_type": "markdown",
   "metadata": {},
   "source": [
    "Esta es la versión del mismo código usando C++. Bastante más complejo no? Nuestro tiempo vale la pena! http://cpp.sh/4giw2\n",
    "```C++\n",
    "#include <iostream>\n",
    "#include <vector>\n",
    "using namespace std;\n",
    "\n",
    "void print(int arr[], int size) {\n",
    "    for(int i=0; i < size; ++i) {\n",
    "        cout << arr[i] << ' ';\n",
    "    }\n",
    "    cout << '\\n';\n",
    "}\n",
    "\n",
    "int main() {\n",
    "    int midpoint = 5;\n",
    "    int lower[5], upper[5];\n",
    "    int j=0, k=0; //indice para lower y upper\n",
    "    for(int i = 0; i < 10; ++i) {\n",
    "        if (i < midpoint) {\n",
    "            lower[j] = i;\n",
    "            j++;\n",
    "        } else {\n",
    "            upper[k] = i;\n",
    "            k++;\n",
    "        }\n",
    "    }\n",
    "    print(lower, 5);\n",
    "    print(upper, 5);\n",
    "    \n",
    "    return 0;\n",
    "}\n",
    "```\n"
   ]
  },
  {
   "cell_type": "markdown",
   "metadata": {},
   "source": [
    "# Comentarios\n",
    "\n",
    "Los comentarios en Python empiezan con un \"pound\", \"hash\" o numeral `#` y cualquier cosa que lo siga hasta el final de la línea es ignorada por el intérprete. Es decir, pueden tener comentarios que toman toda la línea, o sólo parte de ella.\n",
    "\n",
    "En el ejemplo de arriba hay tres comentarios:\n",
    "\n",
    "```python\n",
    "# set the midpoint\n",
    "\n",
    "# make two empty lists\n",
    "lower = []; upper = []\n",
    "\n",
    "# or\n",
    "lower = []; upper = [] # make two empty lists\n",
    "\n",
    "# split the numbers into lower and upper\n",
    "```\n",
    "\n",
    "Python no tiene una manera de hacer comentarios multilínea como C, por ejemplo (`/* ... */`)."
   ]
  },
  {
   "cell_type": "markdown",
   "metadata": {},
   "source": [
    "## Fin de línea indica una sentencia\n",
    "\n",
    "La siguiente línea asigna el número 5 a la variable `midpoint`, notar que no se usa `;` para indicar que ha terminado la asignación.\n",
    "\n",
    "```Python\n",
    "midpoint = 5\n",
    "```\n",
    "\n",
    "Si la línea es muy extensa, la asignación se puede separar en más de una línea.\n",
    "\n",
    "```Python\n",
    "x = 1 + 2 + 3 + 4 +\\\n",
    "    5 + 6 + 7 + 8\n",
    "```\n",
    "\n",
    "también es posible continuar en la siguiente línea si existen paréntesis, y sin usar el operador `\\`, así:\n",
    "\n",
    "```Python\n",
    "x = (1 + 2 + 3 + 4 +\n",
    "     5 + 6 + 7 + 8)\n",
    "```"
   ]
  },
  {
   "cell_type": "markdown",
   "metadata": {},
   "source": [
    "## Los espacios importan!\n",
    "\n",
    "Vean el siguiente snippet de código:\n",
    "\n",
    "```Python\n",
    "for i in range(10):\n",
    "    if i < midpoint:\n",
    "        lower.append(i)\n",
    "    else:\n",
    "        upper.append(i)\n",
    "```\n",
    "Aqui hay varias cosas que notar. Lo primero es que hay un \"loop\" (o ciclo), el bloque (o scope) introducido por el `for`, y un condicional (el *scope* introducido por el `if`). \n",
    "Esta es la característica más controversial de la sintáxis de Python: **el espacio en blanco tiene significado!**\n",
    "\n",
    "En otros lenguajes de programación, un bloque (scope) se define explicitamente con algún símbolo. Por ejemplo, en C++ los símbolos `{` y `}` definen un bloque de código. Ejemplo:\n",
    "\n",
    "```cpp\n",
    "for(int i = 0; i < 10; ++i) {\n",
    "    if (i < midpoint) {\n",
    "        lower[j] = i;\n",
    "        j++;\n",
    "    } else {\n",
    "        upper[k] = i;\n",
    "        k++;\n",
    "    }\n",
    "}\n",
    "```\n"
   ]
  },
  {
   "cell_type": "markdown",
   "metadata": {},
   "source": [
    "## Variables\n",
    "\n",
    "Asignar valores a variables en Pyhon es simple: sólo hay que poner el nombre de la variable (hay algunas restricciones en cómo se pueden llamar las variables), un signo igual (`=`) y el valor que se le quiere asignar. Por ejemplo, para asignar el valor `4` a la variable `x`, entonces:"
   ]
  },
  {
   "cell_type": "code",
   "execution_count": 2,
   "metadata": {
    "collapsed": true
   },
   "outputs": [],
   "source": [
    "# asignamos 4 a x\n",
    "x = 8"
   ]
  },
  {
   "cell_type": "code",
   "execution_count": 3,
   "metadata": {
    "collapsed": false
   },
   "outputs": [
    {
     "name": "stdout",
     "output_type": "stream",
     "text": [
      "8\n"
     ]
    }
   ],
   "source": [
    "print(x)"
   ]
  },
  {
   "cell_type": "code",
   "execution_count": 4,
   "metadata": {
    "collapsed": false
   },
   "outputs": [
    {
     "ename": "SyntaxError",
     "evalue": "invalid syntax (<ipython-input-4-fb29dc9819ae>, line 1)",
     "output_type": "error",
     "traceback": [
      "\u001b[0;36m  File \u001b[0;32m\"<ipython-input-4-fb29dc9819ae>\"\u001b[0;36m, line \u001b[0;32m1\u001b[0m\n\u001b[0;31m    5x = 3\u001b[0m\n\u001b[0m     ^\u001b[0m\n\u001b[0;31mSyntaxError\u001b[0m\u001b[0;31m:\u001b[0m invalid syntax\n"
     ]
    }
   ],
   "source": [
    "5x = 3"
   ]
  },
  {
   "cell_type": "markdown",
   "metadata": {},
   "source": [
    "En la mayoría de los lenguajes de programación, las variables pueden ser consideradas como \"cajas\" en donde ponemos datos, en el lenguaje de programación C, por ejemplo, cuando decimos\n",
    "\n",
    "```C\n",
    "int a = 4;\n",
    "```\n",
    "\n",
    "lo que queremos decir es que hay una caja en la memoria de la máquina que está guardando el valor `4`. Pero en Python, cuando escribimos\n",
    "\n",
    "```Python\n",
    "x = 4\n",
    "```\n",
    "\n",
    "estamos básicamente definiendo una *referencia* cuyo nombre es `x` que apunta a otro espacio de memoria que contiene el número 4."
   ]
  },
  {
   "cell_type": "code",
   "execution_count": 20,
   "metadata": {
    "collapsed": false
   },
   "outputs": [
    {
     "name": "stdout",
     "output_type": "stream",
     "text": [
      "[1, 2, 3]\n"
     ]
    }
   ],
   "source": [
    "x = 1         # x is an integer\n",
    "x = 'hello'   # now x is a string\n",
    "x = [1, 2, 3] # now x is a list\n",
    "print(x)"
   ]
  },
  {
   "cell_type": "markdown",
   "metadata": {},
   "source": [
    "### (opcional) El poder de usar variables como referencias"
   ]
  },
  {
   "cell_type": "markdown",
   "metadata": {},
   "source": [
    "Como las variables son referencias, el contenido de una variable se puede modificar indirectamente, por ejemplo:"
   ]
  },
  {
   "cell_type": "code",
   "execution_count": 21,
   "metadata": {
    "collapsed": false
   },
   "outputs": [
    {
     "name": "stdout",
     "output_type": "stream",
     "text": [
      "[1, 2, 3, 4]\n"
     ]
    }
   ],
   "source": [
    "y = x\n",
    "y.append(4) # agregar 4 a la lista llamada y (que es alias de la variable x)\n",
    "print(x) # la lista x también se modificó!"
   ]
  },
  {
   "cell_type": "markdown",
   "metadata": {},
   "source": [
    "Si se re-define la variable `x`, la variable `y` hace referencia al contenido antiguo de `x`."
   ]
  },
  {
   "cell_type": "code",
   "execution_count": 23,
   "metadata": {
    "collapsed": false
   },
   "outputs": [
    {
     "name": "stdout",
     "output_type": "stream",
     "text": [
      "[1, 2, 3, 4]\n",
      "ahora soy un string\n"
     ]
    }
   ],
   "source": [
    "x = 'ahora soy un string'\n",
    "print(y)  # y is unchanged\n",
    "print(x)"
   ]
  },
  {
   "cell_type": "markdown",
   "metadata": {},
   "source": [
    "## Todo es un objeto\n",
    "\n",
    "Python es un lenguaje \"orientado a objeto\", y cualquier cosa que encuentren en Python, es un objeto, tal como en C++.\n",
    "\n",
    "Eso significa que se pueden ejecutar funciones para obtener información de una variable."
   ]
  },
  {
   "cell_type": "code",
   "execution_count": 40,
   "metadata": {
    "collapsed": false
   },
   "outputs": [
    {
     "data": {
      "text/plain": [
       "True"
      ]
     },
     "execution_count": 40,
     "metadata": {},
     "output_type": "execute_result"
    }
   ],
   "source": [
    "x = 4.0\n",
    "x.is_integer() # esto es una función (o método) de la variable x"
   ]
  },
  {
   "cell_type": "code",
   "execution_count": 39,
   "metadata": {
    "collapsed": false
   },
   "outputs": [
    {
     "name": "stdout",
     "output_type": "stream",
     "text": [
      "2.0\n",
      "3.0\n"
     ]
    }
   ],
   "source": [
    "s = 2 + 3j\n",
    "print(s.real) # esto es una propiedad de la variable s\n",
    "print(s.imag)"
   ]
  },
  {
   "cell_type": "code",
   "execution_count": 33,
   "metadata": {
    "collapsed": false
   },
   "outputs": [
    {
     "data": {
      "text/plain": [
       "(4+6j)"
      ]
     },
     "execution_count": 33,
     "metadata": {},
     "output_type": "execute_result"
    }
   ],
   "source": [
    "s + s"
   ]
  },
  {
   "cell_type": "code",
   "execution_count": 34,
   "metadata": {
    "collapsed": false
   },
   "outputs": [
    {
     "data": {
      "text/plain": [
       "(4+6j)"
      ]
     },
     "execution_count": 34,
     "metadata": {},
     "output_type": "execute_result"
    }
   ],
   "source": [
    "(s).__add__(s)"
   ]
  },
  {
   "cell_type": "markdown",
   "metadata": {},
   "source": [
    "Cuando decimos que en Python *todo* es un objeto, no es broma..."
   ]
  },
  {
   "cell_type": "code",
   "execution_count": 41,
   "metadata": {
    "collapsed": false
   },
   "outputs": [
    {
     "data": {
      "text/plain": [
       "builtin_function_or_method"
      ]
     },
     "execution_count": 41,
     "metadata": {},
     "output_type": "execute_result"
    }
   ],
   "source": [
    "type(x.is_integer)"
   ]
  },
  {
   "cell_type": "markdown",
   "metadata": {
    "collapsed": true
   },
   "source": [
    "## Operadores aritméticos\n",
    "\n",
    "Python tiene siete operadores básicos:\n",
    "\n",
    "| Operator     | Name           | Description                                            |\n",
    "    |--------------|----------------|--------------------------------------------------------|\n",
    "    | ``a + b``    | Suma       | Suma de ``a`` y ``b``                                 |\n",
    "    | ``a - b``    | Resta    | Resta of ``a`` y ``b``                          |\n",
    "    | ``a * b``    | Multiplicación | Producto of ``a`` y ``b``                             |\n",
    "    | ``a / b``    | División  | Cociente de ``a`` y ``b``                            |\n",
    "    | ``a // b``   | División sin resto | Cociente de ``a`` y ``b``, sacando la fracción |\n",
    "    | ``a % b``    | Modulo        | Resto de la división ``a`` por ``b``     |\n",
    "    | ``a ** b``   | Potencia | ``a`` a la ``b`` potencia                    |\n",
    "    | ``-a``       | Negación       | El negativo de ``a``                                  |\n",
    "    | ``+a``       | Suma unaria     | ``a`` no cambia (no sé para qué sirve)                          |"
   ]
  },
  {
   "cell_type": "code",
   "execution_count": 42,
   "metadata": {
    "collapsed": false
   },
   "outputs": [
    {
     "data": {
      "text/plain": [
       "42.0"
      ]
     },
     "execution_count": 42,
     "metadata": {},
     "output_type": "execute_result"
    }
   ],
   "source": [
    "(4 + 8) * (6.5 - 3)"
   ]
  },
  {
   "cell_type": "code",
   "execution_count": 43,
   "metadata": {
    "collapsed": false
   },
   "outputs": [
    {
     "name": "stdout",
     "output_type": "stream",
     "text": [
      "5.5\n"
     ]
    }
   ],
   "source": [
    "# división\n",
    "print(11 / 2)"
   ]
  },
  {
   "cell_type": "code",
   "execution_count": 44,
   "metadata": {
    "collapsed": false
   },
   "outputs": [
    {
     "name": "stdout",
     "output_type": "stream",
     "text": [
      "5\n"
     ]
    }
   ],
   "source": [
    "# División entera, no entrega el resultado como número decimal\n",
    "print(11 // 2)"
   ]
  },
  {
   "cell_type": "markdown",
   "metadata": {
    "collapsed": true
   },
   "source": [
    "## Operadores de comparación\n",
    "\n",
    "Para programar se necesitan tomar algunas decisiones. Por ejemplo, enviar un mensaje de alerta si tu cuenta del banco está en negativo!.\n",
    "Para este tipo de reglas se utilizan las comparaciones: las que retornan verdadero (`True`) o falso (`False`). \n",
    "\n",
    "Estas son la operaciones de comparaciones disponibles en Python:\n",
    "\n",
    "| Operación     | Descripción                       || Operación     | Descripción                          |\n",
    "    |---------------|-----------------------------------||---------------|--------------------------------------|\n",
    "    | ``a == b``    | ``a`` igual a ``b``              || ``a != b``    | ``a`` diferente de ``b``             |\n",
    "    | ``a < b``     | ``a`` menor que ``b``             || ``a > b``     | ``a`` mayor que ``b``             |\n",
    "    | ``a <= b``    | ``a`` menor o igual a ``b`` || ``a >= b``    | ``a`` mayor o igual a ``b`` |\n",
    "\n",
    "\n"
   ]
  },
  {
   "cell_type": "code",
   "execution_count": 46,
   "metadata": {
    "collapsed": false
   },
   "outputs": [
    {
     "data": {
      "text/plain": [
       "True"
      ]
     },
     "execution_count": 46,
     "metadata": {},
     "output_type": "execute_result"
    }
   ],
   "source": [
    "saldo = -10000\n",
    "saldo < 0"
   ]
  },
  {
   "cell_type": "code",
   "execution_count": 47,
   "metadata": {
    "collapsed": false
   },
   "outputs": [
    {
     "data": {
      "text/plain": [
       "True"
      ]
     },
     "execution_count": 47,
     "metadata": {},
     "output_type": "execute_result"
    }
   ],
   "source": [
    "# check if a is between 15 and 30\n",
    "a = 25\n",
    "15 < a < 30"
   ]
  },
  {
   "cell_type": "markdown",
   "metadata": {},
   "source": [
    "## Operadores booleanos\n",
    "Las operaciones de comparación también se pueden combinar! "
   ]
  },
  {
   "cell_type": "code",
   "execution_count": 50,
   "metadata": {
    "collapsed": false
   },
   "outputs": [
    {
     "data": {
      "text/plain": [
       "True"
      ]
     },
     "execution_count": 50,
     "metadata": {},
     "output_type": "execute_result"
    }
   ],
   "source": [
    "x = 4\n",
    "(x < 6) and (x > 2)"
   ]
  },
  {
   "cell_type": "code",
   "execution_count": 51,
   "metadata": {
    "collapsed": false
   },
   "outputs": [
    {
     "data": {
      "text/plain": [
       "True"
      ]
     },
     "execution_count": 51,
     "metadata": {},
     "output_type": "execute_result"
    }
   ],
   "source": [
    "(x > 10) or (x % 2 == 0)  # ¿para qué sirve saber si x % 2 == 0?"
   ]
  },
  {
   "cell_type": "code",
   "execution_count": 52,
   "metadata": {
    "collapsed": false
   },
   "outputs": [
    {
     "data": {
      "text/plain": [
       "False"
      ]
     },
     "execution_count": 52,
     "metadata": {},
     "output_type": "execute_result"
    }
   ],
   "source": [
    "not(x < 6)"
   ]
  },
  {
   "cell_type": "markdown",
   "metadata": {},
   "source": [
    "## Condicionales: `if-elif-else`\n",
    "\n",
    "Los condicionales, a veces también llamados `if-then`, permite que ejecutemos sólo ciertas partes de código dependiendo en alguna condición booleana (T o F). Por ejemplo:"
   ]
  },
  {
   "cell_type": "code",
   "execution_count": 45,
   "metadata": {
    "collapsed": false
   },
   "outputs": [
    {
     "name": "stdout",
     "output_type": "stream",
     "text": [
      "Otra vez debo dinero!\n"
     ]
    }
   ],
   "source": [
    "saldo = -10000\n",
    "if (saldo < 0):\n",
    "    print('Otra vez debo dinero!')"
   ]
  },
  {
   "cell_type": "code",
   "execution_count": 49,
   "metadata": {
    "collapsed": false
   },
   "outputs": [
    {
     "name": "stdout",
     "output_type": "stream",
     "text": [
      "151 es positivo\n"
     ]
    }
   ],
   "source": [
    "x = 151\n",
    "\n",
    "if x == 0:\n",
    "    print(x, \"es cero\")\n",
    "elif x > 0:\n",
    "    print(x, \"es positivo\")\n",
    "elif x < 0:\n",
    "    print(x, \"es negativo\")\n",
    "else:\n",
    "    print(x, \"es algo que ni idea...\")"
   ]
  },
  {
   "cell_type": "markdown",
   "metadata": {},
   "source": [
    "Las condiciones también se pueden combinar:"
   ]
  },
  {
   "cell_type": "code",
   "execution_count": 58,
   "metadata": {
    "collapsed": false
   },
   "outputs": [
    {
     "name": "stdout",
     "output_type": "stream",
     "text": [
      "Todo bien :)\n"
     ]
    }
   ],
   "source": [
    "saldo = -1000\n",
    "ahorro = 1000\n",
    "\n",
    "if saldo < 0 and ahorro > 0:\n",
    "    if ahorro >= -saldo:\n",
    "        print('Debo dinero, pero mis ahorros lo cubren!')\n",
    "    else:\n",
    "        print('Debo dinero, y mis ahorros no alcanzan!')\n",
    "elif saldo < 0 and ahorro <= 0:\n",
    "    print('Debo dinero, y no tengo ahorros :(')\n",
    "else:\n",
    "    print('Todo bien :)')\n"
   ]
  },
  {
   "cell_type": "code",
   "execution_count": null,
   "metadata": {
    "collapsed": true
   },
   "outputs": [],
   "source": []
  }
 ],
 "metadata": {
  "anaconda-cloud": {},
  "kernelspec": {
   "display_name": "Python 3",
   "language": "python",
   "name": "python3"
  },
  "language_info": {
   "codemirror_mode": {
    "name": "ipython",
    "version": 3
   },
   "file_extension": ".py",
   "mimetype": "text/x-python",
   "name": "python",
   "nbconvert_exporter": "python",
   "pygments_lexer": "ipython3",
   "version": "3.6.0"
  }
 },
 "nbformat": 4,
 "nbformat_minor": 1
}
